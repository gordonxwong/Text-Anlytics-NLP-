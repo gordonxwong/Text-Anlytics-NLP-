{
 "cells": [
  {
   "cell_type": "markdown",
   "metadata": {},
   "source": [
    "# Potential Innovative data to analyze Real Estate\n",
    "\n",
    "To analyse the investment opportunities of Real Estate, we have many kinds of data sources to analyse the properties.\n",
    "\n",
    "## Tradition:\n",
    "### 1. The variables about the Properties themselves\n",
    "Location, sizes, property types(studios/apartments/houses/others), Floor Area Ratio，Greening Rates, facilities, debts/obligations and etc.\n",
    "\n",
    "### 2. The variables about the External conditions\n",
    "Neighborhood culture, Good view, traffic accessibility, recreational centers, infrastructures, schools, hospital and ect.\n",
    "\n",
    "### 3. The variables about the Macroecnomic environment\n",
    "Annual GDP per capita growth rate in the regions, Unemployment rate in the regions and etc.\n",
    "\n",
    "## Innovation:\n",
    "Besides, we also have other new data sources nowadays for deeper analysis.\n",
    "### 1. Real Estate Agent data\n",
    "For some Real Estate Agents like Zillow, Airbnb and Redfin, they have many open source comments data for us to extract and analyse the comments of certain property.\n",
    "### 2. Real Estate Advisory Report\n",
    "For some Real Estate Consulting firm, they write lots of reports to analyse the regional ecnomics and the real estate markets or even the commercial zone. We could scrape the useful information for our analysis.\n",
    "### 3. Social Media data\n",
    "#### I) Comments of the properties themselves\n",
    "We could scrape the open source social media data(Yelp, Instagram, Facebook, Twitter and etc.) to dive deep into the comments of the people, who might be the potential/existing customers.\n",
    "#### II) Comments of facilities in the neighborhood\n",
    "Moreover, the facilities in the neighborhood like a recreational center, good views and etc. will also have great premium of the properties. We could also analyse the comments of the facilities."
   ]
  },
  {
   "cell_type": "markdown",
   "metadata": {},
   "source": [
    "## Basic Application\n",
    "In this notebook, I try to use the 100 comments of our **USC Hotel** scraped in yelp to analyse the major Pros and Cons of it."
   ]
  },
  {
   "cell_type": "code",
   "execution_count": 1,
   "metadata": {},
   "outputs": [],
   "source": [
    "##import os\n",
    "##os.chdir('D:\\\\text analytics')"
   ]
  },
  {
   "cell_type": "code",
   "execution_count": 2,
   "metadata": {},
   "outputs": [
    {
     "data": {
      "text/html": [
       "<div>\n",
       "<style scoped>\n",
       "    .dataframe tbody tr th:only-of-type {\n",
       "        vertical-align: middle;\n",
       "    }\n",
       "\n",
       "    .dataframe tbody tr th {\n",
       "        vertical-align: top;\n",
       "    }\n",
       "\n",
       "    .dataframe thead th {\n",
       "        text-align: right;\n",
       "    }\n",
       "</style>\n",
       "<table border=\"1\" class=\"dataframe\">\n",
       "  <thead>\n",
       "    <tr style=\"text-align: right;\">\n",
       "      <th></th>\n",
       "      <th>title</th>\n",
       "      <th>title_link</th>\n",
       "      <th>user-location</th>\n",
       "      <th>user-passport-stats</th>\n",
       "      <th>user-passport-stats1</th>\n",
       "      <th>review-content</th>\n",
       "      <th>rating-qualifier</th>\n",
       "    </tr>\n",
       "  </thead>\n",
       "  <tbody>\n",
       "    <tr>\n",
       "      <th>0</th>\n",
       "      <td>Isabel N.</td>\n",
       "      <td>https://www.yelp.com/user_details?userid=FEtQg...</td>\n",
       "      <td>Yonkers, NY</td>\n",
       "      <td>112 friends</td>\n",
       "      <td>25 reviews</td>\n",
       "      <td>Overall hotel is okay. Pros - friendly staff, ...</td>\n",
       "      <td>3/15/2019</td>\n",
       "    </tr>\n",
       "    <tr>\n",
       "      <th>1</th>\n",
       "      <td>Amy H.</td>\n",
       "      <td>https://www.yelp.com/user_details?userid=k8vCC...</td>\n",
       "      <td>Chicago, IL</td>\n",
       "      <td>187 friends</td>\n",
       "      <td>188 reviews</td>\n",
       "      <td>I was visiting USC and stayed at the USC hotel...</td>\n",
       "      <td>3/5/2019</td>\n",
       "    </tr>\n",
       "    <tr>\n",
       "      <th>2</th>\n",
       "      <td>Dong Z.</td>\n",
       "      <td>https://www.yelp.com/user_details?userid=b8sAd...</td>\n",
       "      <td>University City, San Diego, CA</td>\n",
       "      <td>7 friends</td>\n",
       "      <td>55 reviews</td>\n",
       "      <td>People like a hotel for different reasons so m...</td>\n",
       "      <td>2/2/2019</td>\n",
       "    </tr>\n",
       "    <tr>\n",
       "      <th>3</th>\n",
       "      <td>Sara G.</td>\n",
       "      <td>https://www.yelp.com/user_details?userid=Zlo5S...</td>\n",
       "      <td>Santa Maria, CA</td>\n",
       "      <td>15 friends</td>\n",
       "      <td>23 reviews</td>\n",
       "      <td>This review is based on the fact that this was...</td>\n",
       "      <td>10/14/2018</td>\n",
       "    </tr>\n",
       "    <tr>\n",
       "      <th>4</th>\n",
       "      <td>Kevin g.</td>\n",
       "      <td>https://www.yelp.com/user_details?userid=zivb-...</td>\n",
       "      <td>Sparks, NV</td>\n",
       "      <td>0 friends</td>\n",
       "      <td>1 review</td>\n",
       "      <td>Outdated. $250 hold  Lost cable tv during stay...</td>\n",
       "      <td>10/22/2018</td>\n",
       "    </tr>\n",
       "  </tbody>\n",
       "</table>\n",
       "</div>"
      ],
      "text/plain": [
       "       title                                         title_link  \\\n",
       "0  Isabel N.  https://www.yelp.com/user_details?userid=FEtQg...   \n",
       "1     Amy H.  https://www.yelp.com/user_details?userid=k8vCC...   \n",
       "2    Dong Z.  https://www.yelp.com/user_details?userid=b8sAd...   \n",
       "3    Sara G.  https://www.yelp.com/user_details?userid=Zlo5S...   \n",
       "4   Kevin g.  https://www.yelp.com/user_details?userid=zivb-...   \n",
       "\n",
       "                    user-location user-passport-stats user-passport-stats1  \\\n",
       "0                     Yonkers, NY         112 friends           25 reviews   \n",
       "1                     Chicago, IL         187 friends          188 reviews   \n",
       "2  University City, San Diego, CA           7 friends           55 reviews   \n",
       "3                 Santa Maria, CA          15 friends           23 reviews   \n",
       "4                      Sparks, NV           0 friends             1 review   \n",
       "\n",
       "                                      review-content rating-qualifier  \n",
       "0  Overall hotel is okay. Pros - friendly staff, ...        3/15/2019  \n",
       "1  I was visiting USC and stayed at the USC hotel...         3/5/2019  \n",
       "2  People like a hotel for different reasons so m...         2/2/2019  \n",
       "3  This review is based on the fact that this was...       10/14/2018  \n",
       "4  Outdated. $250 hold  Lost cable tv during stay...       10/22/2018  "
      ]
     },
     "execution_count": 2,
     "metadata": {},
     "output_type": "execute_result"
    }
   ],
   "source": [
    "import pandas as pd\n",
    "import nltk\n",
    "from sklearn.feature_extraction.text import TfidfVectorizer\n",
    "from nltk.corpus import stopwords\n",
    "data = pd.read_excel(\"USC_Hotel_100_comments.xlsx\", encoding='latin-1')\n",
    "data.head()"
   ]
  },
  {
   "cell_type": "markdown",
   "metadata": {},
   "source": [
    "### The dataset includes the name, locations and the links of people who comment the properties. Besides, it also includes the details of their comments."
   ]
  },
  {
   "cell_type": "code",
   "execution_count": 3,
   "metadata": {},
   "outputs": [
    {
     "data": {
      "text/plain": [
       "68"
      ]
     },
     "execution_count": 3,
     "metadata": {},
     "output_type": "execute_result"
    }
   ],
   "source": [
    "# 68 unique locations of 100 data, so it might not be meaningful analyse the comments location by location.\n",
    "len(data['user-location'].unique()) "
   ]
  },
  {
   "cell_type": "markdown",
   "metadata": {},
   "source": [
    "We decide (2,3) grams, token pattern, max_df and stop words to avoid analyzing the meaningless words ('the','a','he','she') and simplify our analytical process"
   ]
  },
  {
   "cell_type": "code",
   "execution_count": 4,
   "metadata": {},
   "outputs": [],
   "source": [
    "vectorizer = TfidfVectorizer(ngram_range=(2,4),\n",
    "                             token_pattern=r'\\b[a-zA-Z]{3,}\\b',\n",
    "                             max_df=0.4, stop_words = set(stopwords.words('english') + [\".\",'.', \",\",\":\", \"''\", \"'s\", \"'\", \"``\", \"(\", \")\", \"-\"]),binary=True)"
   ]
  },
  {
   "cell_type": "code",
   "execution_count": 5,
   "metadata": {},
   "outputs": [],
   "source": [
    "from nltk.stem import WordNetLemmatizer #Lemmatizer\n",
    "lemmatizer = WordNetLemmatizer()\n",
    "reviews = []\n",
    "for r in data['review-content']:\n",
    "    token_words = nltk.word_tokenize(r)\n",
    "    lemmatize_tokens=[]\n",
    "    for token in token_words:\n",
    "        lemmatize_tokens.append(lemmatizer.lemmatize(token))\n",
    "    reviews.append(\" \".join(lemmatize_tokens))"
   ]
  },
  {
   "cell_type": "markdown",
   "metadata": {},
   "source": [
    "We use **TFIDF** (Term Frequency-Inverse Document Frequency) to rank the words"
   ]
  },
  {
   "cell_type": "code",
   "execution_count": 6,
   "metadata": {},
   "outputs": [],
   "source": [
    "X = vectorizer.fit_transform(reviews)\n",
    "terms = vectorizer.get_feature_names()\n",
    "tf_idf = pd.DataFrame(X.toarray().transpose(), index=terms)\n",
    "tf_idf = tf_idf.sum(axis=1)\n",
    "score=pd.DataFrame(tf_idf, columns=[\"score\"])\n",
    "score.sort_values(by=\"score\", ascending=False, inplace=True)"
   ]
  },
  {
   "cell_type": "code",
   "execution_count": 7,
   "metadata": {},
   "outputs": [
    {
     "data": {
      "text/html": [
       "<div>\n",
       "<style scoped>\n",
       "    .dataframe tbody tr th:only-of-type {\n",
       "        vertical-align: middle;\n",
       "    }\n",
       "\n",
       "    .dataframe tbody tr th {\n",
       "        vertical-align: top;\n",
       "    }\n",
       "\n",
       "    .dataframe thead th {\n",
       "        text-align: right;\n",
       "    }\n",
       "</style>\n",
       "<table border=\"1\" class=\"dataframe\">\n",
       "  <thead>\n",
       "    <tr style=\"text-align: right;\">\n",
       "      <th></th>\n",
       "      <th>score</th>\n",
       "    </tr>\n",
       "  </thead>\n",
       "  <tbody>\n",
       "    <tr>\n",
       "      <th>front desk</th>\n",
       "      <td>0.769064</td>\n",
       "    </tr>\n",
       "    <tr>\n",
       "      <th>great location</th>\n",
       "      <td>0.556176</td>\n",
       "    </tr>\n",
       "    <tr>\n",
       "      <th>room clean</th>\n",
       "      <td>0.492480</td>\n",
       "    </tr>\n",
       "    <tr>\n",
       "      <th>walking distance</th>\n",
       "      <td>0.474433</td>\n",
       "    </tr>\n",
       "    <tr>\n",
       "      <th>parking structure</th>\n",
       "      <td>0.460798</td>\n",
       "    </tr>\n",
       "    <tr>\n",
       "      <th>usc campus</th>\n",
       "      <td>0.404201</td>\n",
       "    </tr>\n",
       "    <tr>\n",
       "      <th>next door</th>\n",
       "      <td>0.390182</td>\n",
       "    </tr>\n",
       "    <tr>\n",
       "      <th>right next</th>\n",
       "      <td>0.384471</td>\n",
       "    </tr>\n",
       "    <tr>\n",
       "      <th>customer service</th>\n",
       "      <td>0.378303</td>\n",
       "    </tr>\n",
       "    <tr>\n",
       "      <th>across street</th>\n",
       "      <td>0.377960</td>\n",
       "    </tr>\n",
       "    <tr>\n",
       "      <th>stay hotel</th>\n",
       "      <td>0.358403</td>\n",
       "    </tr>\n",
       "    <tr>\n",
       "      <th>staff nice</th>\n",
       "      <td>0.354640</td>\n",
       "    </tr>\n",
       "    <tr>\n",
       "      <th>nice clean</th>\n",
       "      <td>0.344506</td>\n",
       "    </tr>\n",
       "    <tr>\n",
       "      <th>room service</th>\n",
       "      <td>0.340383</td>\n",
       "    </tr>\n",
       "    <tr>\n",
       "      <th>parking fee</th>\n",
       "      <td>0.338378</td>\n",
       "    </tr>\n",
       "    <tr>\n",
       "      <th>parking garage</th>\n",
       "      <td>0.322473</td>\n",
       "    </tr>\n",
       "    <tr>\n",
       "      <th>bed comfortable</th>\n",
       "      <td>0.321903</td>\n",
       "    </tr>\n",
       "    <tr>\n",
       "      <th>usc hotel</th>\n",
       "      <td>0.321678</td>\n",
       "    </tr>\n",
       "    <tr>\n",
       "      <th>room ready</th>\n",
       "      <td>0.300222</td>\n",
       "    </tr>\n",
       "  </tbody>\n",
       "</table>\n",
       "</div>"
      ],
      "text/plain": [
       "                      score\n",
       "front desk         0.769064\n",
       "great location     0.556176\n",
       "room clean         0.492480\n",
       "walking distance   0.474433\n",
       "parking structure  0.460798\n",
       "usc campus         0.404201\n",
       "next door          0.390182\n",
       "right next         0.384471\n",
       "customer service   0.378303\n",
       "across street      0.377960\n",
       "stay hotel         0.358403\n",
       "staff nice         0.354640\n",
       "nice clean         0.344506\n",
       "room service       0.340383\n",
       "parking fee        0.338378\n",
       "parking garage     0.322473\n",
       "bed comfortable    0.321903\n",
       "usc hotel          0.321678\n",
       "room ready         0.300222"
      ]
     },
     "execution_count": 7,
     "metadata": {},
     "output_type": "execute_result"
    }
   ],
   "source": [
    "score[score['score']>0.3]"
   ]
  },
  {
   "cell_type": "markdown",
   "metadata": {},
   "source": [
    "### Conclusion\n",
    "For the basic application by using the TFIDF ranking of the USC Hotel comments, we find that people give good comments than bad comments. It is majorly because it has great location (walking distance to USC), rooms are clean, staff are nice and the beds are comfortable."
   ]
  },
  {
   "cell_type": "markdown",
   "metadata": {},
   "source": [
    "### Further Analysis Suggesion\n",
    "About the properties themselves: If we use more data, we can label the data of goods and bads comments and split data into training and testing dataset to do the **classification analysis** to further study the major good/bad reasons for the properties that make them perform well/bad.\n",
    "\n",
    "**About the facilities in the neighborhood**: we can also analyse comments of the facilities in the neighborhood, University of Southern Califonia, for example to give a certain score of it and we can combine all the scores of different facilities to do the **spatial analysis**."
   ]
  },
  {
   "cell_type": "code",
   "execution_count": null,
   "metadata": {},
   "outputs": [],
   "source": []
  }
 ],
 "metadata": {
  "kernelspec": {
   "display_name": "Python 3",
   "language": "python",
   "name": "python3"
  },
  "language_info": {
   "codemirror_mode": {
    "name": "ipython",
    "version": 3
   },
   "file_extension": ".py",
   "mimetype": "text/x-python",
   "name": "python",
   "nbconvert_exporter": "python",
   "pygments_lexer": "ipython3",
   "version": "3.6.5"
  }
 },
 "nbformat": 4,
 "nbformat_minor": 2
}
